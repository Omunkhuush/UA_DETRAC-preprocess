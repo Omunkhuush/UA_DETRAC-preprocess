{
 "cells": [
  {
   "cell_type": "code",
   "execution_count": 19,
   "metadata": {},
   "outputs": [],
   "source": [
    "import os\n",
    "from os import listdir\n",
    "from os.path import isfile, join\n",
    "from shutil import copy"
   ]
  },
  {
   "cell_type": "code",
   "execution_count": 2,
   "metadata": {},
   "outputs": [
    {
     "name": "stdout",
     "output_type": "stream",
     "text": [
      "83791\n",
      "['MVI_40191', 'MVI_40732', 'MVI_40131', 'MVI_63552', 'MVI_40172', 'MVI_20064', 'MVI_39811', 'MVI_39851', 'MVI_63562', 'MVI_63521', 'MVI_40152', 'MVI_40204', 'MVI_40171', 'MVI_40161', 'MVI_39771', 'MVI_40141', 'MVI_63554', 'MVI_40212', 'MVI_20051', 'MVI_41073', 'MVI_40981', 'MVI_63563', 'MVI_39761', 'MVI_40992', 'MVI_40162', 'MVI_39781', 'MVI_40751', 'MVI_40181', 'MVI_41063', 'MVI_40201', 'MVI_40871', 'MVI_63525', 'MVI_20065', 'MVI_40241', 'MVI_40192', 'MVI_40962', 'MVI_20063', 'MVI_20033', 'MVI_40244', 'MVI_40211', 'MVI_39861', 'MVI_39931', 'MVI_63561', 'MVI_63544', 'MVI_40213', 'MVI_20062', 'MVI_40752', 'MVI_39821', 'MVI_40963', 'MVI_20012', 'MVI_20034', 'MVI_40243', 'MVI_20011', 'MVI_39801', 'MVI_40991', 'MVI_20061', 'MVI_20035', 'MVI_20052', 'MVI_63553', 'MVI_20032']\n",
      "60\n"
     ]
    }
   ],
   "source": [
    "path = 'train/images/'\n",
    "images = [f for f in listdir(path) if isfile(join(path, f))]\n",
    "print(len(images))\n",
    "train_uniq = []\n",
    "for i in images:\n",
    "    cam = \"_\".join(i.split('_')[:2])\n",
    "    if not cam in train_uniq:\n",
    "        train_uniq.append(cam)\n",
    "print(train_uniq)\n",
    "print(len(train_uniq))"
   ]
  },
  {
   "cell_type": "code",
   "execution_count": 22,
   "metadata": {},
   "outputs": [
    {
     "name": "stdout",
     "output_type": "stream",
     "text": [
      "83791\n",
      "82085\n"
     ]
    }
   ],
   "source": [
    "exists_img = []\n",
    "labelsPath= 'train/labels/'\n",
    "for k in images:\n",
    "    txtName = k.split(\".\")[0]+'.txt'\n",
    "    if os.path.exists(labelsPath+txtName):\n",
    "        exists_img.append(k)\n",
    "print(len(images))\n",
    "print(len(exists_img))"
   ]
  },
  {
   "cell_type": "code",
   "execution_count": 25,
   "metadata": {},
   "outputs": [
    {
     "name": "stdout",
     "output_type": "stream",
     "text": [
      "2495 119 MVI_40191\n",
      "2120 119 MVI_40732\n",
      "1645 119 MVI_40131\n",
      "1150 119 MVI_63552\n",
      "2635 119 MVI_40172\n",
      "800 119 MVI_20064\n",
      "500 119 MVI_39811\n",
      "1286 119 MVI_39851\n",
      "1185 119 MVI_63562\n",
      "2055 119 MVI_63521\n",
      "1746 119 MVI_40152\n",
      "1225 119 MVI_40204\n",
      "1150 119 MVI_40171\n",
      "1490 119 MVI_40161\n",
      "570 119 MVI_39771\n",
      "1600 119 MVI_40141\n",
      "1445 119 MVI_63554\n",
      "1690 119 MVI_40212\n",
      "906 119 MVI_20051\n",
      "1825 119 MVI_41073\n",
      "1995 119 MVI_40981\n",
      "1390 119 MVI_63563\n",
      "1323 119 MVI_39761\n",
      "2122 119 MVI_40992\n",
      "1726 119 MVI_40162\n",
      "1861 119 MVI_39781\n",
      "1145 119 MVI_40751\n",
      "1700 119 MVI_40181\n",
      "1505 119 MVI_41063\n",
      "925 119 MVI_40201\n",
      "1720 119 MVI_40871\n",
      "985 119 MVI_63525\n",
      "1200 119 MVI_20065\n",
      "2320 119 MVI_40241\n",
      "2195 119 MVI_40192\n",
      "1875 119 MVI_40962\n",
      "800 119 MVI_20063\n",
      "784 119 MVI_20033\n",
      "1345 119 MVI_40244\n",
      "1923 119 MVI_40211\n",
      "745 119 MVI_39861\n",
      "1082 119 MVI_39931\n",
      "1285 119 MVI_63561\n",
      "956 119 MVI_63544\n",
      "1782 119 MVI_40213\n",
      "800 119 MVI_20062\n",
      "2025 119 MVI_40752\n",
      "880 119 MVI_39821\n",
      "1820 119 MVI_40963\n",
      "936 119 MVI_20012\n",
      "800 119 MVI_20034\n",
      "1265 119 MVI_40243\n",
      "664 119 MVI_20011\n",
      "885 119 MVI_39801\n",
      "1667 119 MVI_40991\n",
      "800 119 MVI_20061\n",
      "800 119 MVI_20035\n",
      "694 119 MVI_20052\n",
      "1405 119 MVI_63553\n",
      "437 119 MVI_20032\n"
     ]
    }
   ],
   "source": [
    "getNum = 119\n",
    "imagesPath = 'train/images/'\n",
    "labelsPath = 'train/labels/'\n",
    "savePath = 'smallData/'\n",
    "for camera in train_uniq:\n",
    "    camera_images = [img for img in exists_img if img.startswith(camera)]\n",
    "    if len(camera_images)>getNum:\n",
    "        step = int(len(camera_images)/getNum)\n",
    "        choose = []\n",
    "        for i in range(0,len(camera_images),step):\n",
    "            #print(camera_images[i])\n",
    "            txtName = camera_images[i].split(\".\")[0]+'.txt'\n",
    "            if os.path.exists(labelsPath+txtName):\n",
    "                copy(imagesPath+camera_images[i],savePath+'images/'+camera_images[i])\n",
    "                copy(labelsPath+txtName,savePath+'labels/'+txtName)\n",
    "                choose.append(camera_images[i])\n",
    "            if len(choose) == getNum:\n",
    "                break\n",
    "    print(len(camera_images),len(choose),camera)"
   ]
  },
  {
   "cell_type": "code",
   "execution_count": null,
   "metadata": {},
   "outputs": [],
   "source": []
  }
 ],
 "metadata": {
  "kernelspec": {
   "display_name": "Python 3",
   "language": "python",
   "name": "python3"
  },
  "language_info": {
   "codemirror_mode": {
    "name": "ipython",
    "version": 3
   },
   "file_extension": ".py",
   "mimetype": "text/x-python",
   "name": "python",
   "nbconvert_exporter": "python",
   "pygments_lexer": "ipython3",
   "version": "3.8.10"
  }
 },
 "nbformat": 4,
 "nbformat_minor": 2
}
