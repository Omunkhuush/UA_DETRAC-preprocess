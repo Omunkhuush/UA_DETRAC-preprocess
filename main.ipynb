{
 "cells": [
  {
   "cell_type": "code",
   "execution_count": 1,
   "metadata": {},
   "outputs": [],
   "source": [
    "import os\n",
    "from os import listdir\n",
    "from os.path import isfile, join"
   ]
  },
  {
   "cell_type": "code",
   "execution_count": 2,
   "metadata": {},
   "outputs": [
    {
     "name": "stdout",
     "output_type": "stream",
     "text": [
      "83791\n",
      "['MVI_40191', 'MVI_40732', 'MVI_40131', 'MVI_63552', 'MVI_40172', 'MVI_20064', 'MVI_39811', 'MVI_39851', 'MVI_63562', 'MVI_63521', 'MVI_40152', 'MVI_40204', 'MVI_40171', 'MVI_40161', 'MVI_39771', 'MVI_40141', 'MVI_63554', 'MVI_40212', 'MVI_20051', 'MVI_41073', 'MVI_40981', 'MVI_63563', 'MVI_39761', 'MVI_40992', 'MVI_40162', 'MVI_39781', 'MVI_40751', 'MVI_40181', 'MVI_41063', 'MVI_40201', 'MVI_40871', 'MVI_63525', 'MVI_20065', 'MVI_40241', 'MVI_40192', 'MVI_40962', 'MVI_20063', 'MVI_20033', 'MVI_40244', 'MVI_40211', 'MVI_39861', 'MVI_39931', 'MVI_63561', 'MVI_63544', 'MVI_40213', 'MVI_20062', 'MVI_40752', 'MVI_39821', 'MVI_40963', 'MVI_20012', 'MVI_20034', 'MVI_40243', 'MVI_20011', 'MVI_39801', 'MVI_40991', 'MVI_20061', 'MVI_20035', 'MVI_20052', 'MVI_63553', 'MVI_20032']\n",
      "60\n"
     ]
    }
   ],
   "source": [
    "path = 'train/images/'\n",
    "images = [f for f in listdir(path) if isfile(join(path, f))]\n",
    "print(len(images))\n",
    "train_uniq = []\n",
    "for i in images:\n",
    "    cam = \"_\".join(i.split('_')[:2])\n",
    "    if not cam in train_uniq:\n",
    "        train_uniq.append(cam)\n",
    "print(train_uniq)\n",
    "print(len(train_uniq))"
   ]
  },
  {
   "cell_type": "code",
   "execution_count": 5,
   "metadata": {},
   "outputs": [
    {
     "name": "stdout",
     "output_type": "stream",
     "text": [
      "56340\n",
      "['MVI_39371', 'MVI_40792', 'MVI_39031', 'MVI_40853', 'MVI_40761', 'MVI_40892', 'MVI_40701', 'MVI_40891', 'MVI_40863', 'MVI_40793', 'MVI_40714', 'MVI_39211', 'MVI_40771', 'MVI_39511', 'MVI_39401', 'MVI_40712', 'MVI_40901', 'MVI_40711', 'MVI_40903', 'MVI_40855', 'MVI_40904', 'MVI_40743', 'MVI_40864', 'MVI_39361', 'MVI_40773', 'MVI_40742', 'MVI_40902', 'MVI_40852', 'MVI_39311', 'MVI_40762', 'MVI_40905', 'MVI_40772', 'MVI_40851', 'MVI_40854', 'MVI_40763', 'MVI_39051', 'MVI_39271', 'MVI_40775', 'MVI_39501', 'MVI_40774']\n",
      "40\n"
     ]
    }
   ],
   "source": [
    "path = 'val/images/'\n",
    "images = [f for f in listdir(path) if isfile(join(path, f))]\n",
    "print(len(images))\n",
    "val_uniq = []\n",
    "for i in images:\n",
    "    cam = \"_\".join(i.split('_')[:2])\n",
    "    if not cam in val_uniq:\n",
    "        val_uniq.append(cam)\n",
    "print(val_uniq)\n",
    "print(len(val_uniq))"
   ]
  },
  {
   "cell_type": "code",
   "execution_count": 12,
   "metadata": {},
   "outputs": [],
   "source": [
    "for q in train_uniq:\n",
    "    if q in val_uniq:\n",
    "        print(q)"
   ]
  },
  {
   "cell_type": "code",
   "execution_count": 13,
   "metadata": {},
   "outputs": [],
   "source": [
    "from shutil import copy\n",
    "for i in train_uniq:\n",
    "    name = i+'_img00001.jpg'\n",
    "    copy('train/images/'+name,'cam/'+name)\n",
    "for i in val_uniq:\n",
    "    name = i+'_img00001.jpg'\n",
    "    copy('val/images/'+name,'cam/'+name)"
   ]
  },
  {
   "cell_type": "code",
   "execution_count": null,
   "metadata": {},
   "outputs": [],
   "source": []
  }
 ],
 "metadata": {
  "kernelspec": {
   "display_name": "Python 3",
   "language": "python",
   "name": "python3"
  },
  "language_info": {
   "codemirror_mode": {
    "name": "ipython",
    "version": 3
   },
   "file_extension": ".py",
   "mimetype": "text/x-python",
   "name": "python",
   "nbconvert_exporter": "python",
   "pygments_lexer": "ipython3",
   "version": "3.8.10"
  }
 },
 "nbformat": 4,
 "nbformat_minor": 2
}
